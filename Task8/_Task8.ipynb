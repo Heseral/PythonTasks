{
 "cells": [
  {
   "cell_type": "markdown",
   "id": "complete-easter",
   "metadata": {},
   "source": [
    "# Таск №8\n",
    "\n",
    "## Условие\n",
    "\n",
    "По заданным значениям x и y построить интерполяционный многочлен в форме Лагранжа\n",
    "\n",
    "## Описание алгоритма\n",
    "\n",
    "Для получения функции интерполяции в виде строки необходимо подать на вход точечно-заданную функцию, а именно точки со значениями иксов и игреков. Количество Х-точек и У-точек должно быть одинаковым.\n",
    "\n",
    "Полная сумма и частичная сумма записываются как строки. Для полной суммы это ноль, так как к ней будут прибавляться частичные суммы. Частичные суммы изначально один, так как они будут умножаться на некоторые выражения.\n",
    "\n",
    "В цикле проходимся по всем Х-точкам, по формуле считаем частичную сумму так же в цикле. К результату(в начале это 0) прибавляется(записывается как строка) полученная частичная сумма, \"умноженная\"(как строка) на У-точку. Частичная сумма сбрасывается в единицу для дальнейшего пересчета. Результат возвращается как строка, содержащая математические выражения и \"икс\".\n",
    "\n",
    "Для демонстрации результата полученная строковая функция задается как лямбда-функция питона, в которой строковая функция преобразуется в код при помощи eval(). Аргументом для лямбда-функции является икс.\n",
    "\n",
    "Набор точек для построения графика выбирается как 100 равноотстоящих точек от первой заданной Х-точки до последней заданной Х-точки(поэтому для получения корректного графика задавать Х-точки в порядке возрастания).\n",
    "\n",
    "Значения функции для построения графика вычисляются в однострочном цикле, в котором значения из полученного набора Х-точек(в коде args) подставляются в лямбда-функцию у. Результат возвращается как список.\n",
    "\n",
    "В консоль выводится результат как строка(интерполяционная функция), строится график по высчитанным точкам. Для проверки результата на этот же график наносятся входные данные - набор точек, поступивших в качестве аргумента в get_lagranshed_func_as_string(x_dots, y_dots)."
   ]
  },
  {
   "cell_type": "code",
   "execution_count": 12,
   "id": "electronic-feeling",
   "metadata": {},
   "outputs": [
    {
     "name": "stdout",
     "output_type": "stream",
     "text": [
      "0 + 1.469 * 1 * (x - 0.2) / (0 - 0.2) * (x - 0.4) / (0 - 0.4) * (x - 0.6) / (0 - 0.6) * (x - 0.8) / (0 - 0.8) * (x - 1) / (0 - 1) + 1.033 * 1 * (x - 0) / (0.2 - 0) * (x - 0.4) / (0.2 - 0.4) * (x - 0.6) / (0.2 - 0.6) * (x - 0.8) / (0.2 - 0.8) * (x - 1) / (0.2 - 1) + 0.653 * 1 * (x - 0) / (0.4 - 0) * (x - 0.2) / (0.4 - 0.2) * (x - 0.6) / (0.4 - 0.6) * (x - 0.8) / (0.4 - 0.8) * (x - 1) / (0.4 - 1) + 0.261 * 1 * (x - 0) / (0.6 - 0) * (x - 0.2) / (0.6 - 0.2) * (x - 0.4) / (0.6 - 0.4) * (x - 0.8) / (0.6 - 0.8) * (x - 1) / (0.6 - 1) + -0.391 * 1 * (x - 0) / (0.8 - 0) * (x - 0.2) / (0.8 - 0.2) * (x - 0.4) / (0.8 - 0.4) * (x - 0.6) / (0.8 - 0.6) * (x - 1) / (0.8 - 1) + -2.075 * 1 * (x - 0) / (1 - 0) * (x - 0.2) / (1 - 0.2) * (x - 0.4) / (1 - 0.4) * (x - 0.6) / (1 - 0.6) * (x - 0.8) / (1 - 0.8)\n"
     ]
    },
    {
     "data": {
      "text/plain": [
       "<matplotlib.collections.PathCollection at 0x14b2f2c7550>"
      ]
     },
     "execution_count": 12,
     "metadata": {},
     "output_type": "execute_result"
    },
    {
     "data": {
      "image/png": "[encoded data removed]",
      "text/plain": [
       "<Figure size 432x288 with 1 Axes>"
      ]
     },
     "metadata": {
      "needs_background": "light"
     },
     "output_type": "display_data"
    }
   ],
   "source": [
    "import matplotlib.pyplot as plt\n",
    "import numpy as np\n",
    "\n",
    "\n",
    "def get_lagranshed_func_as_string(x_dots, y_dots):\n",
    "    # результат изначально 0, так как потом к нему будут прибавлятсья\n",
    "    # частичные суммы\n",
    "    result = \"0\"\n",
    "    # частичная сумма изначально 1, так как она будет умножаться на\n",
    "    # другие выражения\n",
    "    part = \"1\"\n",
    "    # проходимся по всем Х-точкам, по формуле считаем частичную сумму\n",
    "    # как строку с подставленными в нее значениями иксов\n",
    "    for i in range(0, len(x_dots)):\n",
    "        for j in range(0, len(x_dots)):\n",
    "            # по формуле, i-тая точка пропускается(чтобы не делить на ноль)\n",
    "            if i == j:\n",
    "                continue\n",
    "            part += f\" * (x - {x_dots[j]}) / ({x_dots[i]} - {x_dots[j]})\"\n",
    "        # к результату прибавляется как строка частичная сумма, \"умноженная\"\n",
    "        # как строка на У-точку с текущим индексом i\n",
    "        result += f\" + {y_dots[i]} * {part}\"\n",
    "        # сбрасываем частичную сумму в 1 для дальнейшего пересчета\n",
    "        part = \"1\"\n",
    "    return result\n",
    "\n",
    "\n",
    "# исходные данные: Х-точки\n",
    "x_dots = [0, .2, .4, .6, .8, 1]\n",
    "# исходные данные: У-точки\n",
    "y_dots = [1.469, 1.033, .653, .261, -.391, -2.075]\n",
    "# результат: интерполяционный многочлен в виде строки(содержащий иксы)\n",
    "lagranshed_and_stringed_func = get_lagranshed_func_as_string(x_dots, y_dots)\n",
    "# выводится результат в виде строки: интерполяционный многочлен\n",
    "print(lagranshed_and_stringed_func)\n",
    "# результат: интерполяционный многочлен в виде лямбда-функции. Получен\n",
    "# из предыдущей функции-строки, которая, при помощи eval() преобразована во\n",
    "# вполне исполняемый код. Аргументом лямбда функции, очевидно, является икс\n",
    "y = lambda x: eval(lagranshed_and_stringed_func)\n",
    "# набор точек-аргументов для построения графика. Выбирается как 100\n",
    "# равноотстоящих точек от первой заданной точки до последней заданной точки\n",
    "args = np.linspace(x_dots[0], x_dots[len(x_dots) - 1], 100)\n",
    "# набор точек-значений для построения графика. Получается при помощи цикла, в\n",
    "# котором подставляются Х-точки из списка args в лямбда-функцию y()\n",
    "vals = [y(arg) for arg in args]\n",
    "# сетка на графике для удобства\n",
    "plt.grid()\n",
    "# график интерполяционного многочлена\n",
    "plt.plot(args, vals)\n",
    "# отмечаем входные данные-точки на полученном графике для проверки результата\n",
    "plt.scatter(x_dots, y_dots)"
   ]
  },
  {
   "cell_type": "code",
   "execution_count": null,
   "id": "marine-proportion",
   "metadata": {},
   "outputs": [],
   "source": []
  }
 ],
 "metadata": {
  "kernelspec": {
   "display_name": "Python 3",
   "language": "python",
   "name": "python3"
  },
  "language_info": {
   "codemirror_mode": {
    "name": "ipython",
    "version": 3
   },
   "file_extension": ".py",
   "mimetype": "text/x-python",
   "name": "python",
   "nbconvert_exporter": "python",
   "pygments_lexer": "ipython3",
   "version": "3.8.6"
  }
 },
 "nbformat": 4,
 "nbformat_minor": 5
}
